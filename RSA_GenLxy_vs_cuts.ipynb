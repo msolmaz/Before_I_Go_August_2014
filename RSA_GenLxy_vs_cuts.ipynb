{
 "metadata": {
  "name": "",
  "signature": "sha256:059eea4907e7c7117d424600c0bddc747179d96cc7c4051a606a4fea818c78c3"
 },
 "nbformat": 3,
 "nbformat_minor": 0,
 "worksheets": [
  {
   "cells": [
    {
     "cell_type": "code",
     "collapsed": false,
     "input": [
      "from math import sqrt\n",
      "import ROOT\n",
      "from ROOT import TFile, TDirectory, TH1F, TCanvas, TLegend\n",
      "import rootnotes"
     ],
     "language": "python",
     "metadata": {},
     "outputs": [],
     "prompt_number": 1
    },
    {
     "cell_type": "code",
     "collapsed": false,
     "input": [
      "# inputFile = TFile.Open(\"/Users/demattia/HTo2LongLivedTo4F_MH1000_MFF350_CTau35To3500_analysis_20140414_weighted_2saMu.root\")\n",
      "inputFile = TFile.Open(\"/Users/melihsolmaz/Desktop/ipython/HTo2LongLivedTo4F_MH1000_MFF350_CTau35To3500_analysis_20140530_weighted_2saMu.root\")\n",
      "\n",
      "gen_lxy_all = inputFile.Get(\"gen_lxy_all\")\n",
      "gen_lxy_all_DecayMode =\tinputFile.Get(\"gen_lxy_all_DecayMode\")\n",
      "gen_lxy_all_DecayMode_withinAcc = inputFile.Get(\"gen_lxy_all_DecayMode_withinAcc\")\n",
      "gen_lxy_all_DecayMode_withinAcc_trigFired = inputFile.Get(\"gen_lxy_all_DecayMode_withinAcc_trigFired\")\n",
      "\n",
      "gen_lxy_aftercuts = inputFile.Get(\"gen_lxy_aftercuts\")\n",
      "\n",
      "\n",
      "gen_lxy_afterReco_noGenMatch = inputFile.Get(\"gen_lxy_afterReco_noGenMatch\")\n",
      "gen_lxy_reco_genMatched = inputFile.Get(\"gen_lxy_reco_genMatched\")\n",
      "gen_lxy_reco_removeFakeComb = inputFile.Get(\"gen_lxy_reco_removeFakeComb\")\n",
      "#gen_lxy_reco_triggerMatch = inputFile.Get(\"gen_lxy_reco_triggerMatch\")\n",
      "gen_lxy_reco_withinAcc = inputFile.Get(\"gen_lxy_reco_withinAcc\")\n",
      "gen_lxy_afterAllCutsLoose_noCosmicRejection = inputFile.Get(\"gen_lxy_afterAllCutsLoose_noCosmicRejection\")\n",
      "gen_lxy_afterAllCutsLoose = inputFile.Get(\"gen_lxy_afterAllCutsLoose\")\n",
      "gen_lxy_afterAllCutsLoose_complementary = inputFile.Get(\"gen_lxy_afterAllCutsLoose_complementary\")\n",
      "gen_lxy_final = inputFile.Get(\"gen_lxy_final\")\n",
      "\n",
      "canvas = TCanvas()\n",
      "# Gen only\n",
      "gen_lxy_all.Draw(\"HIST\")\n",
      "gen_lxy_all.GetYaxis().SetRangeUser(0.5, 10000)\n",
      "gen_lxy_all.GetYaxis().SetTitle(\"Arbitrary Units\")\n",
      "gen_lxy_all.SetTitle(\"\")\n",
      "gen_lxy_all.SetStats(0)\n",
      "gen_lxy_all.GetXaxis().SetTitleOffset(1.2)\n",
      "gen_lxy_all.GetXaxis().SetTitle(\"generated L_{xy} [cm]\")\n",
      "gen_lxy_all_DecayMode_withinAcc.SetLineColor(3)\n",
      "gen_lxy_all_DecayMode_withinAcc.Draw(\"HISTSAME\")\n",
      "gen_lxy_all_DecayMode_withinAcc_trigFired.SetLineColor(4)\n",
      "gen_lxy_all_DecayMode_withinAcc_trigFired.Draw(\"HISTSAME\")\n",
      "# gen_lxy_afterAllCutsLoose.SetLineColor(4)\n",
      "# gen_lxy_afterAllCutsLoose.Draw(\"HISTSAME\")\n",
      "\n",
      "# This is the only histogram with reco value on the x axis\n",
      "#gen_lxy_afterReco_noGenMatch.SetLineColor(5)\n",
      "#gen_lxy_afterReco_noGenMatch.Draw(\"HISTSAME\")\n",
      "\n",
      "# Gen-matched to reco. The x axis has gen-Lxy\n",
      "gen_lxy_reco_genMatched.SetLineColor(6)\n",
      "gen_lxy_reco_genMatched.Draw(\"HISTSAME\")\n",
      "#gen_lxy_reco_removeFakeComb.SetLineColor(7)\n",
      "#gen_lxy_reco_removeFakeComb.Draw(\"HISTSAME\")\n",
      "#gen_lxy_reco_withinAcc.SetLineColor(8)\n",
      "#gen_lxy_reco_withinAcc.Draw(\"HISTSAME\")\n",
      "#gen_lxy_afterAllCutsLoose_noCosmicRejection.SetLineColor(9)\n",
      "#gen_lxy_afterAllCutsLoose_noCosmicRejection.Draw(\"HISTSAME\")\n",
      "#gen_lxy_afterAllCutsLoose.SetLineColor(11)\n",
      "#gen_lxy_afterAllCutsLoose.Draw(\"HISTSAME\")\n",
      "\n",
      "gen_lxy_final.SetLineColor(2)\n",
      "gen_lxy_final.Draw(\"HISTSAME\")\n",
      "\n",
      "\n",
      "# Legend\n",
      "leg = TLegend(0.2,0.6,0.85,0.8)\n",
      "leg.SetFillColor(0)\n",
      "leg.SetLineColor(0)\n",
      "leg.AddEntry(gen_lxy_all,\"All generated LL particles\",\"l\")\n",
      "leg.AddEntry(gen_lxy_all_DecayMode_withinAcc,\"Within acceptance\",\"l\")\n",
      "leg.AddEntry(gen_lxy_all_DecayMode_withinAcc_trigFired,\"Within acceptance and triggered\",\"l\")\n",
      "#leg.AddEntry(gen_lxy_afterReco_noGenMatch,\"All reco\")\n",
      "leg.AddEntry(gen_lxy_reco_genMatched,\"Within acceptance, triggered and reconstructed\",\"l\")\n",
      "#leg.AddEntry(gen_lxy_reco_removeFakeComb,\"removed fake combinations\",\"l\")\n",
      "#leg.AddEntry(gen_lxy_reco_withinAcc,\"within acceptance\",\"l\")\n",
      "#leg.AddEntry(gen_lxy_afterAllCutsLoose_noCosmicRejection,\"loose cuts, no cosmic rejection\",\"l\")\n",
      "#leg.AddEntry(gen_lxy_afterAllCutsLoose,\"loose cuts\",\"l\")\n",
      "leg.AddEntry(gen_lxy_final,\"Passing the full selection\",\"l\")\n",
      "leg.Draw(\"SAME\")\n",
      "\n",
      "canvas.SetLogy(True)\n",
      "canvas.Draw()\n",
      "canvas.SaveAs(\"sensitivity_of_SA_muon_analysis.pdf\")\n",
      "canvas"
     ],
     "language": "python",
     "metadata": {},
     "outputs": [
      {
       "metadata": {},
       "output_type": "pyout",
       "png": "[encoded data removed]",
       "prompt_number": 2,
       "text": [
        "<ROOT.TCanvas object (\"c1\") at 0x7fa9a8e4af40>"
       ]
      }
     ],
     "prompt_number": 2
    },
    {
     "cell_type": "markdown",
     "metadata": {},
     "source": [
      "Acceptance is defined as\n",
      "- $p_T > 21$ GeV/c\n",
      "- $|\\eta| < 2$\n",
      "- gen-decay length < 500 cm"
     ]
    },
    {
     "cell_type": "heading",
     "level": 1,
     "metadata": {},
     "source": [
      "Background"
     ]
    },
    {
     "cell_type": "markdown",
     "metadata": {},
     "source": [
      "Compute the number of background events in signal and control region from the prompt section (d0/sigma < 3 and Lxy/sigma < 3).\n",
      "\n",
      "We define PS as the prompt signal and PC as the prompt control regions."
     ]
    },
    {
     "cell_type": "code",
     "collapsed": false,
     "input": [
      "inputFileData = TFile.Open(\"/Users/demattia/Data22Jan_combined_2saMu.root\")\n",
      "mass_looseCollCuts = inputFileData.Get(\"Mass_looseCollCuts\")\n",
      "mass_looseControlCollCuts = inputFileData.Get(\"Mass_looseControlCollCuts\")\n",
      "\n",
      "PS = mass_looseCollCuts.GetEntries()\n",
      "PC = mass_looseControlCollCuts.GetEntries()\n",
      "\n",
      "print \"data events in the prompt signal region =\", PS,\"+/-\", sqrt(PS)\n",
      "print \"data events in the prompt control region =\", PC, \"+/-\", sqrt(PC)\n",
      "\n",
      "print \"difference =\", abs(PS - PC), \"+/-\", sqrt(PS + PC)"
     ],
     "language": "python",
     "metadata": {},
     "outputs": [
      {
       "output_type": "stream",
       "stream": "stdout",
       "text": [
        "data events in the prompt signal region = 276.0 +/- 16.6132477258\n",
        "data events in the prompt control region = 293.0 +/- 17.1172427686\n",
        "difference = 17.0 +/- 23.8537208838\n"
       ]
      }
     ],
     "prompt_number": 68
    },
    {
     "cell_type": "code",
     "collapsed": false,
     "input": [
      "Incremental "
     ],
     "language": "python",
     "metadata": {},
     "outputs": []
    }
   ],
   "metadata": {}
  }
 ]
}