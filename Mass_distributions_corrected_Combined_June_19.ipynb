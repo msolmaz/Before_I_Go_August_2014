{
 "metadata": {
  "name": "",
  "signature": "sha256:4996f9b1e14f428ba9bebad19cfbfcf45987e3becedfbf4431bd20502a10dd2a"
 },
 "nbformat": 3,
 "nbformat_minor": 0,
 "worksheets": [
  {
   "cells": [
    {
     "cell_type": "code",
     "collapsed": false,
     "input": [
      "import ROOT\n",
      "import rootnotes\n",
      "import rootprint\n",
      "import math\n",
      "from ROOT import RooRealVar, RooFormulaVar, RooVoigtian, RooChebychev, RooArgList, \\\n",
      "                 RooArgSet, RooAddPdf, RooDataSet, RooCategory, RooSimultaneous, \\\n",
      "                 RooBreitWigner, RooCBShape, RooFFTConvPdf, TFile, TDirectory, \\\n",
      "                 TH1F, TCanvas, TLegend, TLine, TText, TPad, TF1, RooDataHist, RooHist, \\\n",
      "                 RooPlot\n",
      "\n",
      "ROOT.gStyle.SetErrorX(0)"
     ],
     "language": "python",
     "metadata": {},
     "outputs": [],
     "prompt_number": 1
    },
    {
     "cell_type": "code",
     "collapsed": false,
     "input": [
      "inputMC = TFile.Open(\"MC_Z_width_corrected.root\")\n",
      "histoMC = inputMC.Get(\"Mass_looseControlCollCuts\")\n",
      "\n",
      "inputData = TFile.Open(\"Data_Z_width.root\")\n",
      "histoData = inputData.Get(\"Mass_looseControlCollCuts\")\n",
      "\n",
      "histoMC.Scale(1/histoMC.Integral(1, histoMC.GetNbinsX()))\n",
      "histoData.Scale(1/histoData.Integral(1, histoData.GetNbinsX()))\n",
      "\n"
     ],
     "language": "python",
     "metadata": {},
     "outputs": [],
     "prompt_number": 2
    },
    {
     "cell_type": "code",
     "collapsed": false,
     "input": [
      "#Parameter of the histogram\n",
      "mass = RooRealVar(\"mass\", \"mass\", 0, 500)\n",
      "\n",
      "rooMC = RooDataHist(\"rooMC\", \"Di Muon Mass Distribution DY Jets\", RooArgList(mass), histoMC)\n",
      "\n",
      "rooData = RooDataHist(\"rooData\", \"Di Muon Mass Distribution Data\", RooArgList(mass), histoData)"
     ],
     "language": "python",
     "metadata": {},
     "outputs": [],
     "prompt_number": 3
    },
    {
     "cell_type": "code",
     "collapsed": false,
     "input": [
      "frameMC = mass.frame(40, 250)\n",
      "\n",
      "frameMC.SetTitle(\"Red = MC and Blue = Data\")\n",
      "frameMC.GetXaxis().SetTitle(\"DiMuon Mass[GeV/c^2]\")\n",
      "frameMC.GetYaxis().SetTitleOffset(1.5)\n",
      "frameMC.GetYaxis().SetTitle(\"Normalized Number of Events\")\n",
      "\n",
      "\n",
      "#frameMC.SetMarkerColor(3)\n",
      "#frameMC.SetLineColor(3)\n",
      "\n",
      "rooMC.plotOn(frameMC)\n",
      "frameMC.getAttLine().SetLineColor(2)\n",
      "frameMC.getAttMarker().SetMarkerColor(2)\n",
      "\n",
      "rooData.plotOn(frameMC)\n",
      "frameMC.getAttLine().SetLineColor(4)\n",
      "frameMC.getAttMarker().SetMarkerColor(4)\n",
      "\n",
      "\n",
      "c1 = TCanvas(\"c1\", \"Canvas\", 500, 500)\n",
      "frameMC.Draw()\n",
      "c1.SaveAs(\"Dimuon_Mass_Combined_Corrected1_June_25.pdf\")\n",
      "c1"
     ],
     "language": "python",
     "metadata": {},
     "outputs": [
      {
       "output_type": "stream",
       "stream": "stderr",
       "text": [
        "TCanvas::Constructor:0: RuntimeWarning: Deleting canvas with same name: c1\n"
       ]
      },
      {
       "metadata": {},
       "output_type": "pyout",
       "png": "[encoded data removed]",
       "prompt_number": 5,
       "text": [
        "<ROOT.TCanvas object (\"c1\") at 0x7fe2e90f01d0>"
       ]
      }
     ],
     "prompt_number": 5
    },
    {
     "cell_type": "code",
     "collapsed": false,
     "input": [],
     "language": "python",
     "metadata": {},
     "outputs": []
    }
   ],
   "metadata": {}
  }
 ]
}